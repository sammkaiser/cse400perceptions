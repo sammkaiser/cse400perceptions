{
 "cells": [
  {
   "cell_type": "code",
   "execution_count": 1,
   "metadata": {},
   "outputs": [],
   "source": [
    "import numpy as np\n",
    "import networkx as nx\n",
    "import matplotlib.pyplot as plt\n",
    "import random\n",
    "from itertools import tee\n",
    "import math"
   ]
  },
  {
   "cell_type": "code",
   "execution_count": 12,
   "metadata": {},
   "outputs": [],
   "source": [
    "#Creating networks\n",
    "seed = 14\n",
    "n = 500\n",
    "m = 5\n",
    "N_1 = nx.barabasi_albert_graph(n, m, seed)\n",
    "N_2 = nx.barabasi_albert_graph(n, m, seed)\n",
    "N_3 = nx.barabasi_albert_graph(n, m, seed)\n",
    "N_4 = nx.barabasi_albert_graph(n, m, seed)\n",
    "N_5 = nx.barabasi_albert_graph(n, m, seed)\n",
    "N_6 = nx.barabasi_albert_graph(n, m, seed)"
   ]
  },
  {
   "cell_type": "code",
   "execution_count": 13,
   "metadata": {},
   "outputs": [
    {
     "data": {
      "image/png": "[encoded data removed]",
      "text/plain": [
       "<Figure size 432x288 with 1 Axes>"
      ]
     },
     "metadata": {
      "needs_background": "light"
     },
     "output_type": "display_data"
    }
   ],
   "source": [
    "#Initializing set of opinions\n",
    "initial_opinions = np.random.uniform(-1.0, 1.0, n)\n",
    "plt.figure()\n",
    "plt.hist(initial_opinions, bins = 50)\n",
    "plt.show()"
   ]
  },
  {
   "cell_type": "code",
   "execution_count": 14,
   "metadata": {},
   "outputs": [],
   "source": [
    "#Make the opinions a dictionary\n",
    "#Make the perceptions a dictionary\n",
    "#In the beginning, each node's perception is its own opinion\n",
    "opinions = {}\n",
    "perceptions = {}\n",
    "for node in N_1:\n",
    "    opinions[node] = initial_opinions[node]\n",
    "    perceptions[node] = initial_opinions[node]\n",
    "        \n",
    "#Assign opinions and perceptions to nodes\n",
    "nx.set_node_attributes(N_1, opinions, \"opinion\")\n",
    "nx.set_node_attributes(N_1, perceptions, \"perception\")\n",
    "\n",
    "#define a dictionary to track of the exposed opinions\n",
    "keys = N_1.nodes()\n",
    "opinions_exposed_to = {node: [] for node in keys}\n",
    "nx.set_node_attributes(N_1, opinions_exposed_to, \"opinions_exposed_to\")\n",
    "\n",
    "#Defining a dictionary to track the number of times an opinion has been seen\n",
    "opinion_frequency = {}\n",
    "#Set to zero initially\n",
    "for opinion in opinions:\n",
    "    opinion_frequency[opinion] = 0\n",
    "nx.set_node_attributes(N_1, opinion_frequency, \"opinion_frequency\")"
   ]
  },
  {
   "cell_type": "code",
   "execution_count": 15,
   "metadata": {},
   "outputs": [],
   "source": [
    "#probability selection functions\n",
    "def pref_attach_opinion(network, sample, k):\n",
    "    #get the opinions \n",
    "    opinions = {}\n",
    "    opinion = 0\n",
    "    #Making this list because we can only iterate through the network once\n",
    "    people = []\n",
    "    for person in sample:\n",
    "        opinion = network.nodes[person]['opinion']\n",
    "        opinions[person] = opinion\n",
    "        people.append(person)\n",
    "    #Now we need to select\n",
    "    opinions_absolute_values = [abs(op) for op in list(opinions.values())]\n",
    "    opinion_sum = sum(opinions_absolute_values)\n",
    "    opinions_probabilities = []\n",
    "    probability = 0\n",
    "    \n",
    "    for person in people:\n",
    "        their_opinion_abs = abs(network.nodes[person]['opinion'])\n",
    "        their_opinion_frequency = network.nodes[person]['opinion_frequency']\n",
    "        #Get the opinion frequency:\n",
    "        if their_opinion_frequency >= 1: #Opinion has been seen at least once before\n",
    "            probability = math.log(their_opinion_frequency*their_opinion_abs)/(opinion_sum)\n",
    "        else: #Opinion has not been seen yet\n",
    "            probability = their_opinion_abs/(opinion_sum)\n",
    "        opinions_probabilities.append(probability)\n",
    "        \n",
    "    \n",
    "    opinions_exposed = random.choices(list(opinions.values()), weights=opinions_probabilities, k=k)\n",
    "    \n",
    "    return opinions_exposed\n",
    "\n",
    "#uniform probability function\n",
    "def uniform_opinion(network, sample, k):\n",
    "    #get the opinions\n",
    "    opinions = {}\n",
    "    opinion = 0\n",
    "    for person in sample:\n",
    "        opinion = network.nodes[person]['opinion']\n",
    "        opinions[person] = opinion\n",
    "       \n",
    "    #give everything equal weight\n",
    "    opinions_exposed = random.choices(list(opinions.values()),  k=k)\n",
    "    return opinions_exposed"
   ]
  },
  {
   "cell_type": "code",
   "execution_count": 16,
   "metadata": {},
   "outputs": [],
   "source": [
    "#big fancy function\n",
    "\n",
    "#exposure method: preferential attachment\n",
    "#initial opinions: random uniform\n",
    "#intial perceptions: initial opinions\n",
    "def simulate_1(network, opinions, num_rounds, opinions_per_round, opinion_memory):\n",
    "    \n",
    "    #visualize initial perceptions\n",
    "    #print(\"Perception Shift\")\n",
    "    #print(\"Opinion Exposure Method: Preferential\")\n",
    "    #print(\"Initial Opinions: Random Uniform\")\n",
    "    #print(\"Initial Perceptions = Initial Opinions\")\n",
    "    #plt.figure()\n",
    "    #plt.hist(initial_opinions, bins=100)\n",
    "    #plt.show()\n",
    "    \n",
    "\n",
    "    \n",
    "    #rounds of exposure\n",
    "    for node in network:\n",
    "        #rounds of exposure\n",
    "        new_opinions_exposed_to = []\n",
    "        for i in range(0, num_rounds):\n",
    "            #get the neighbors - have to do this in every round bc it returns an iterator\n",
    "            neighbors = network.neighbors(node)\n",
    "            opinions_exposed = pref_attach_opinion(network, neighbors, opinions_per_round)\n",
    "        \n",
    "            exposure_history = nx.get_node_attributes(network, \"opinions_exposed_to\")\n",
    "            opinion_frequencies = nx.get_node_attributes(network, \"opinion_frequency\")\n",
    "            exposure_history_this_node = exposure_history[node]\n",
    "            for new_opinion in opinions_exposed:\n",
    "                exposure_history_this_node.insert(0, new_opinion)  \n",
    "                new_opinion_frequency = 1 + opinion_frequencies[node]\n",
    "                opinion_frequencies[node] = new_opinion_frequency\n",
    "        \n",
    "            if len(exposure_history_this_node) > opinion_memory: #More than ten opinions stored\n",
    "                #Want to keep the ten most recent ones\n",
    "                exposure_history_this_node = exposure_history_this_node[0:opinion_memory]\n",
    "            \n",
    "            #Want to make sure the correct opinions are being saved\n",
    "            #if node == 0 and i == num_rounds - 1:\n",
    "                #print(exposure_history_this_node)\n",
    "            \n",
    "        exposure_history[node] = exposure_history_this_node\n",
    "        nx.set_node_attributes(network, exposure_history, \"opinions_exposed_to\")\n",
    "        nx.set_node_attributes(network, opinion_frequencies, \"opinion_frequency\")\n",
    "        #Take the average opinion, based on total stored exposed opinions\n",
    "        average_opinion = sum(exposure_history[node])/len(exposure_history[node])\n",
    "        #Update that nodes perception\n",
    "        perceptions[node] = average_opinion\n",
    "    \n",
    "    \n",
    "        \n",
    "    \n",
    "    #visualize final perceptions\n",
    "    #plt.figure()\n",
    "    #plt.hist(list(perceptions.values()), bins=100)\n",
    "    #plt.show()\n",
    "    \n",
    "    #get the average perception magnitude\n",
    "    perception_abs = [abs(per) for per in list(perceptions.values())]\n",
    "    \n",
    "    average_perception = sum(perception_abs)/len(perception_abs)\n",
    "    \n",
    "    return num_rounds, average_perception"
   ]
  },
  {
   "cell_type": "code",
   "execution_count": 17,
   "metadata": {},
   "outputs": [],
   "source": [
    "#simulate_1(N_1, initial_opinions, 10, 1, 10)"
   ]
  },
  {
   "cell_type": "code",
   "execution_count": 18,
   "metadata": {},
   "outputs": [],
   "source": [
    "def get_average_opinion_abs(network):\n",
    "    opinions = nx.get_node_attributes(network, \"opinion\")\n",
    "    opinion_sum = 0\n",
    "    num = 0\n",
    "    for person in opinions:\n",
    "        opinion_sum += abs(network.nodes[person]['opinion'])\n",
    "        num += 1\n",
    "    return opinion_sum/num"
   ]
  },
  {
   "cell_type": "code",
   "execution_count": 19,
   "metadata": {},
   "outputs": [],
   "source": [
    "def simulate_1_over_time(network, max_num_rounds, opinions_per_round, opinion_memory):\n",
    "    i = 1\n",
    "    perceptions = []\n",
    "    rounds = []\n",
    "    \n",
    "    print(\"Average Perception vs. Number of Exposure Rounds\")\n",
    "    print(\"Opinion Exposure Method: Preferential\")\n",
    "    print(\"Initial Opinions: Random Uniform\")\n",
    "    print(\"Initial Perceptions = Initial Opinions\")\n",
    "    opinions = nx.get_node_attributes(network, \"opinion\")\n",
    "    #run the simulation with an increasing number of exposure rounds\n",
    "    while (i <= max_num_rounds):\n",
    "        num_rounds, average_perception = simulate_1(network, opinions.values(), i, opinions_per_round, opinion_memory)\n",
    "        rounds.append(num_rounds)\n",
    "        perceptions.append(abs(average_perception))\n",
    "        i += 1\n",
    "    \n",
    "    #visualize how the average perception changes with the number of rounds, compare to average opinion\n",
    "    plt.figure()\n",
    "    plt.plot(rounds, perceptions)\n",
    "    average_opinion = get_average_opinion_abs(network)\n",
    "    opinions_plot = [average_opinion for i in range(num_rounds)]\n",
    "    plt.plot(rounds, opinions_plot)\n",
    "    plt.title(\"Average Perception vs. Number of Rounds\")\n",
    "    plt.xlabel(\"Number of Rounds\")\n",
    "    plt.ylabel(\"Average Perception at Conclusion\")\n",
    "    #plt.xticks(rounds)\n",
    "    plt.show()\n",
    "    "
   ]
  },
  {
   "cell_type": "code",
   "execution_count": 20,
   "metadata": {},
   "outputs": [
    {
     "name": "stdout",
     "output_type": "stream",
     "text": [
      "Average Perception vs. Number of Exposure Rounds\n",
      "Opinion Exposure Method: Preferential\n",
      "Initial Opinions: Random Uniform\n",
      "Initial Perceptions = Initial Opinions\n"
     ]
    },
    {
     "data": {
      "image/png": "[encoded data removed]",
      "text/plain": [
       "<Figure size 432x288 with 1 Axes>"
      ]
     },
     "metadata": {
      "needs_background": "light"
     },
     "output_type": "display_data"
    }
   ],
   "source": [
    "simulate_1_over_time(N_1, 10, 1, 10)"
   ]
  },
  {
   "cell_type": "code",
   "execution_count": 21,
   "metadata": {},
   "outputs": [
    {
     "name": "stdout",
     "output_type": "stream",
     "text": [
      "[0.5674275645124869, 0.46525168342861223, 0.5693733774932896, 0.5260304294623024, 0.46525168342861223, 0.6279115441526535, -0.41784844278618705, -0.6328002418849263, 0.3092883992509199, -0.3100638189481124]\n"
     ]
    }
   ],
   "source": [
    "exposed_opinions = nx.get_node_attributes(N_1, \"opinions_exposed_to\")\n",
    "print(exposed_opinions[0])"
   ]
  },
  {
   "cell_type": "raw",
   "metadata": {},
   "source": []
  },
  {
   "cell_type": "code",
   "execution_count": null,
   "metadata": {},
   "outputs": [],
   "source": []
  }
 ],
 "metadata": {
  "kernelspec": {
   "display_name": "Python 3",
   "language": "python",
   "name": "python3"
  },
  "language_info": {
   "codemirror_mode": {
    "name": "ipython",
    "version": 3
   },
   "file_extension": ".py",
   "mimetype": "text/x-python",
   "name": "python",
   "nbconvert_exporter": "python",
   "pygments_lexer": "ipython3",
   "version": "3.7.6"
  }
 },
 "nbformat": 4,
 "nbformat_minor": 4
}
