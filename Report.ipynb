{
 "cells": [
  {
   "cell_type": "markdown",
   "metadata": {},
   "source": [
    "# Polarization and Perception in Social Networks\n",
    "In today's society, there is much research into the polarization of opinions, but less into the polarization of perceptions. Are the opinions of our community members really as extreme as we think they are? This research sought to simulate opinion exposure and subsequent perception development, to understand how interactions with our peers influence our understanding of society-wide opinion. <br>\n",
    "This code was written by Samm Kaiser, a fourth year Math + Computer Science student at Washington University in Saint Louis, under the mentorship of Professor Yevgeniy (Eugene) Vorobeychik. <br>\n",
    "This notebook walks through our basic methodology and thinking, with potential extensions at the end. Our hope is that someone will pick up where we left off, and continue characterizing perceptions of opinions in social networks. If you have any questions, please email sammkaiser@wustl.edu."
   ]
  },
  {
   "cell_type": "markdown",
   "metadata": {},
   "source": [
    "## Getting started\n",
    "We will begin by importing relevant packages and randomly generating our network. This research used the [Barabasi-Albert model](https://en.wikipedia.org/wiki/Barab%C3%A1si%E2%80%93Albert_model) for social networks."
   ]
  },
  {
   "cell_type": "code",
   "execution_count": 14,
   "metadata": {},
   "outputs": [],
   "source": [
    "import numpy as np\n",
    "import networkx as nx\n",
    "import matplotlib.pyplot as plt\n",
    "import random\n",
    "from itertools import tee\n",
    "import math"
   ]
  },
  {
   "cell_type": "code",
   "execution_count": 15,
   "metadata": {},
   "outputs": [],
   "source": [
    "seed = 14\n",
    "n = 500\n",
    "m = 5\n",
    "network = nx.barabasi_albert_graph(n, m, seed)"
   ]
  },
  {
   "cell_type": "markdown",
   "metadata": {},
   "source": [
    "Next, we initialize the set of opinions for our network. These opinions have a random uniform distribution. We then place the opinions in a dictionary, and use the Networkx set_node_attributes function to assign each opinion to a respective node. This is one area where the code can be improved - Networkx node attribute functions are very slow to run. This is not a huge issue here, but slows down simulations later in the code. <br>\n",
    "The range of initial opinions is [-1.0, 1.0], and we will treat higher magnitudes as more extreme opinions. <br>"
   ]
  },
  {
   "cell_type": "code",
   "execution_count": 16,
   "metadata": {},
   "outputs": [
    {
     "data": {
      "image/png": "[encoded data removed]",
      "text/plain": [
       "<Figure size 432x288 with 1 Axes>"
      ]
     },
     "metadata": {
      "needs_background": "light"
     },
     "output_type": "display_data"
    }
   ],
   "source": [
    "initial_opinions = np.random.uniform(-1.0, 1.0, n)\n",
    "opinions = {}\n",
    "for node in network:\n",
    "    opinions[node] = initial_opinions[node]\n",
    "        \n",
    "#Assign opinions to nodes\n",
    "nx.set_node_attributes(network, opinions, \"opinion\")\n",
    "\n",
    "plt.figure()\n",
    "plt.hist(initial_opinions, bins = 50)\n",
    "plt.title(\"Initial Network Opinions\")\n",
    "plt.show()"
   ]
  },
  {
   "cell_type": "markdown",
   "metadata": {},
   "source": [
    "We will now define two more dictionaries: one to track the opinions each node is exposed to, and one to track the number of times a given opinion has been exposed. These will be useful for bookkeeping later on."
   ]
  },
  {
   "cell_type": "code",
   "execution_count": 17,
   "metadata": {},
   "outputs": [],
   "source": [
    "keys = network.nodes()\n",
    "opinions_exposed_to = {node: [] for node in keys}\n",
    "nx.set_node_attributes(network, opinions_exposed_to, \"opinions_exposed_to\")\n",
    "\n",
    "opinion_frequency = {}\n",
    "#Set to zero initially\n",
    "for opinion in opinions:\n",
    "    opinion_frequency[opinion] = 0\n",
    "nx.set_node_attributes(network, opinion_frequency, \"opinion_frequency\")"
   ]
  },
  {
   "cell_type": "markdown",
   "metadata": {},
   "source": [
    "## Probability Functions\n",
    "Now we define two probability functions. We use these functions to assign exposure probabilities to each opinion. <br>\n",
    "The first function defines a preferential attachment-style probability function, and the second defines a uniform Gaussian function. <br>\n",
    "Throughout this notebook, we will use the preferential attachment function, but this code can easily be refactored to use the Gaussian function. Note: The Gaussian function does not account for repeat exposure. "
   ]
  },
  {
   "cell_type": "code",
   "execution_count": 18,
   "metadata": {},
   "outputs": [],
   "source": [
    "def pref_attach_opinion(network, sample, k):\n",
    "    #get the opinions \n",
    "    opinions = {}\n",
    "    opinion = 0\n",
    "    #Making this list because we can only iterate through the network once\n",
    "    people = []\n",
    "    for person in sample:\n",
    "        opinion = network.nodes[person]['opinion']\n",
    "        opinions[person] = opinion\n",
    "        people.append(person)\n",
    "    #Now we need to select\n",
    "    opinions_absolute_values = [abs(op) for op in list(opinions.values())]\n",
    "    opinion_sum = sum(opinions_absolute_values)\n",
    "    opinions_probabilities = []\n",
    "    probability = 0\n",
    "    \n",
    "    for person in people:\n",
    "        their_opinion_abs = abs(network.nodes[person]['opinion'])\n",
    "        their_opinion_frequency = network.nodes[person]['opinion_frequency']\n",
    "        if their_opinion_frequency >= 1: #Opinion has been seen at least once before\n",
    "            probability = math.log(their_opinion_frequency*their_opinion_abs)/(opinion_sum)\n",
    "        else: #Opinion has not been seen yet\n",
    "            probability = their_opinion_abs/(opinion_sum)\n",
    "        opinions_probabilities.append(probability)\n",
    "        \n",
    "    \n",
    "    opinions_exposed = random.choices(list(opinions.values()), weights=opinions_probabilities, k=k)\n",
    "    \n",
    "    return opinions_exposed\n",
    "\n",
    "#uniform probability function\n",
    "def uniform_opinion(network, sample, k):\n",
    "    #get the opinions\n",
    "    opinions = {}\n",
    "    opinion = 0\n",
    "    for person in sample:\n",
    "        opinion = network.nodes[person]['opinion']\n",
    "        opinions[person] = opinion\n",
    "       \n",
    "    #opinions have equal weight\n",
    "    opinions_exposed = random.choices(list(opinions.values()),  k=k)\n",
    "    return opinions_exposed"
   ]
  },
  {
   "cell_type": "markdown",
   "metadata": {},
   "source": [
    "## Simulating opinion exposure\n",
    "We now define a function to simulate opinion exposure. As mentioned above, this function uses the preferential attachment probability function, with a uniform random distribution for initial opinions and perceptions. <br>\n",
    "This function takes in a network, a set of opinions, the number of opinions to expose per round, and how many opinions a node can remember at one time. "
   ]
  },
  {
   "cell_type": "code",
   "execution_count": 21,
   "metadata": {},
   "outputs": [],
   "source": [
    "def simulate_1(network, num_rounds, opinions_per_round, opinion_memory):\n",
    "    \n",
    "    #visualize initial perceptions\n",
    "    print(\"Perception Shift\")\n",
    "    print(\"Opinion Exposure Method: Preferential\")\n",
    "    print(\"Initial Opinions: Random Uniform\")\n",
    "    print(\"Initial Perceptions = Initial Opinions\")\n",
    "    plt.figure()\n",
    "    plt.hist(initial_opinions, bins=100)\n",
    "    plt.show()\n",
    "    \n",
    "    perceptions = {}\n",
    "    \n",
    "    for node in network:\n",
    "        #rounds of exposure\n",
    "        new_opinions_exposed_to = []\n",
    "        for i in range(0, num_rounds):\n",
    "            #get the neighbors - have to do this in every round bc it returns an iterator\n",
    "            neighbors = network.neighbors(node)\n",
    "            opinions_exposed = pref_attach_opinion(network, neighbors, opinions_per_round)\n",
    "            exposure_history = nx.get_node_attributes(network, \"opinions_exposed_to\")\n",
    "            opinion_frequencies = nx.get_node_attributes(network, \"opinion_frequency\")\n",
    "            exposure_history_this_node = exposure_history[node]\n",
    "            for new_opinion in opinions_exposed:\n",
    "                exposure_history_this_node.insert(0, new_opinion)  \n",
    "                new_opinion_frequency = 1 + opinion_frequencies[node]\n",
    "                opinion_frequencies[node] = new_opinion_frequency\n",
    "        \n",
    "            if len(exposure_history_this_node) > opinion_memory: #More than ten opinions stored\n",
    "                #Want to keep the most recent ones\n",
    "                exposure_history_this_node = exposure_history_this_node[0:opinion_memory]\n",
    "            \n",
    "        exposure_history[node] = exposure_history_this_node\n",
    "        nx.set_node_attributes(network, exposure_history, \"opinions_exposed_to\")\n",
    "        nx.set_node_attributes(network, opinion_frequencies, \"opinion_frequency\")\n",
    "        #Take the average opinion, based on total stored exposed opinions\n",
    "        average_opinion = sum(exposure_history[node])/len(exposure_history[node])\n",
    "        #Update that nodes perception\n",
    "        perceptions[node] = average_opinion\n",
    "    \n",
    "    #visualize final perceptions\n",
    "    plt.figure()\n",
    "    plt.hist(list(perceptions.values()), bins=100)\n",
    "    plt.show()\n",
    "    \n",
    "    #get the average perception magnitude\n",
    "    perception_abs = [abs(per) for per in list(perceptions.values())]\n",
    "    \n",
    "    average_perception = sum(perception_abs)/len(perception_abs)\n",
    "    \n",
    "    return num_rounds, average_perception"
   ]
  },
  {
   "cell_type": "code",
   "execution_count": 22,
   "metadata": {},
   "outputs": [
    {
     "name": "stdout",
     "output_type": "stream",
     "text": [
      "Perception Shift\n",
      "Opinion Exposure Method: Preferential\n",
      "Initial Opinions: Random Uniform\n",
      "Initial Perceptions = Initial Opinions\n"
     ]
    },
    {
     "data": {
      "image/png": "[encoded data removed]",
      "text/plain": [
       "<Figure size 432x288 with 1 Axes>"
      ]
     },
     "metadata": {
      "needs_background": "light"
     },
     "output_type": "display_data"
    },
    {
     "data": {
      "image/png": "[encoded data removed]",
      "text/plain": [
       "<Figure size 432x288 with 1 Axes>"
      ]
     },
     "metadata": {
      "needs_background": "light"
     },
     "output_type": "display_data"
    },
    {
     "data": {
      "text/plain": [
       "(40, 0.46495491389159554)"
      ]
     },
     "execution_count": 22,
     "metadata": {},
     "output_type": "execute_result"
    }
   ],
   "source": [
    "simulate_1(network, 40, 1, 10)"
   ]
  },
  {
   "cell_type": "markdown",
   "metadata": {},
   "source": [
    "We will use the following helper function later to calculate the average opinion of the network. "
   ]
  },
  {
   "cell_type": "code",
   "execution_count": 23,
   "metadata": {},
   "outputs": [],
   "source": [
    "def get_average_opinion_abs(network):\n",
    "    opinions = nx.get_node_attributes(network, \"opinion\")\n",
    "    opinion_sum = 0\n",
    "    num = 0\n",
    "    for person in opinions:\n",
    "        opinion_sum += abs(network.nodes[person]['opinion'])\n",
    "        num += 1\n",
    "    return opinion_sum/num"
   ]
  },
  {
   "cell_type": "markdown",
   "metadata": {},
   "source": [
    "## Simulating over time\n",
    "The following function runs the simulation many times, graphing the average perception vs. the number of rounds of exposure. We provide the average opinion (which is static) in this graph to visualize the divergence between average perception and average opinion. <br> <br>\n",
    "Because each simulation alters the network, we need to reset the network to the initial opinions before each simulation. The following simulation function is identical to the one above, but begins by re-intializing the same network every time. "
   ]
  },
  {
   "cell_type": "code",
   "execution_count": 25,
   "metadata": {},
   "outputs": [],
   "source": [
    "def simulate_2(network, num_rounds, opinions_per_round, opinion_memory):\n",
    "    \n",
    "    #visualize initial perceptions\n",
    "    #print(\"Perception Shift\")\n",
    "    #print(\"Opinion Exposure Method: Preferential\")\n",
    "    #print(\"Initial Opinions: Random Uniform\")\n",
    "    #print(\"Initial Perceptions = Initial Opinions\")\n",
    "    #plt.figure()\n",
    "    #plt.hist(initial_opinions, bins=100)\n",
    "    #plt.show()\n",
    "    \n",
    "    \n",
    "    #reinitialize the network perceptions\n",
    "    initial_perceptions = {}\n",
    "    opinions = nx.get_node_attributes(network, \"opinion\")\n",
    "    for node in network:\n",
    "        initial_perceptions[node] = opinions[node]\n",
    "        \n",
    "    #Assign opinions and perceptions to nodes\n",
    "    nx.set_node_attributes(network, initial_perceptions, \"perception\")\n",
    "\n",
    "    #Need to reset the memory and frequencies as well\n",
    "    keys = network.nodes()\n",
    "    opinions_exposed_to = {node: [] for node in keys}\n",
    "    nx.set_node_attributes(network, opinions_exposed_to, \"opinions_exposed_to\")\n",
    "\n",
    "    opinion_frequency = {}\n",
    "    #Set to zero initially\n",
    "    for opinion in opinions:\n",
    "        opinion_frequency[opinion] = 0\n",
    "    nx.set_node_attributes(network, opinion_frequency, \"opinion_frequency\")\n",
    "        \n",
    "    perceptions = {}\n",
    "    #rounds of exposure\n",
    "    for node in network:\n",
    "        #rounds of exposure\n",
    "        new_opinions_exposed_to = []\n",
    "        for i in range(0, num_rounds):\n",
    "            #get the neighbors - have to do this in every round bc it returns an iterator\n",
    "            neighbors = network.neighbors(node)\n",
    "            opinions_exposed = pref_attach_opinion(network, neighbors, opinions_per_round)\n",
    "        \n",
    "            exposure_history = nx.get_node_attributes(network, \"opinions_exposed_to\")\n",
    "            opinion_frequencies = nx.get_node_attributes(network, \"opinion_frequency\")\n",
    "            exposure_history_this_node = exposure_history[node]\n",
    "            for new_opinion in opinions_exposed:\n",
    "                exposure_history_this_node.insert(0, new_opinion)  \n",
    "                new_opinion_frequency = 1 + opinion_frequencies[node]\n",
    "                opinion_frequencies[node] = new_opinion_frequency\n",
    "        \n",
    "            if len(exposure_history_this_node) > opinion_memory: #More than ten opinions stored\n",
    "                #Want to keep the most recent ones\n",
    "                exposure_history_this_node = exposure_history_this_node[0:opinion_memory]\n",
    "\n",
    "            \n",
    "        exposure_history[node] = exposure_history_this_node\n",
    "        nx.set_node_attributes(network, exposure_history, \"opinions_exposed_to\")\n",
    "        nx.set_node_attributes(network, opinion_frequencies, \"opinion_frequency\")\n",
    "        #Take the average opinion, based on total stored exposed opinions\n",
    "        #Use absolute values here\n",
    "        exposure_history_abs = [abs(exp) for exp in exposure_history_this_node]\n",
    "        average_opinion = sum(exposure_history_abs)/len(exposure_history_abs)\n",
    "        #Update that nodes perception\n",
    "        perceptions[node] = average_opinion\n",
    "    \n",
    "    #Update the perceptions in the network\n",
    "    nx.set_node_attributes(network, perceptions, 'perception')\n",
    "    \n",
    "    #visualize final perceptions\n",
    "    #plt.figure()\n",
    "    #plt.hist(list(perceptions.values()), bins=100)\n",
    "    #plt.show()\n",
    "    \n",
    "    average_perception = sum(perceptions.values())/len(perceptions)\n",
    "\n",
    "    return num_rounds, average_perception"
   ]
  },
  {
   "cell_type": "code",
   "execution_count": 26,
   "metadata": {},
   "outputs": [],
   "source": [
    "def simulate_over_time(network, max_num_rounds, opinions_per_round, opinion_memory):\n",
    "    i = 1    \n",
    "    average_opinion = get_average_opinion_abs(network)\n",
    "    perceptions = [average_opinion]\n",
    "    rounds = [0]\n",
    "    \n",
    "    print(\"Average Perception vs. Number of Exposure Rounds\")\n",
    "    print(\"Opinion Exposure Method: Preferential\")\n",
    "    print(\"Initial Opinions: Random Uniform\")\n",
    "    print(\"Initial Perceptions = Initial Opinions\")\n",
    "    #run the simulation with an increasing number of exposure rounds\n",
    "    while (i <= max_num_rounds):\n",
    "        num_rounds, average_perception = simulate_2(network, i, opinions_per_round, opinion_memory)\n",
    "        rounds.append(num_rounds)\n",
    "        perceptions.append(abs(average_perception))\n",
    "        i += 1\n",
    "    \n",
    "    #visualize how the average perception changes with the number of rounds, compare to average opinion\n",
    "    plt.figure()\n",
    "    plt.plot(rounds, perceptions)\n",
    "    opinions_plot = [average_opinion for i in range(num_rounds + 1)]\n",
    "    plt.plot(rounds, opinions_plot)\n",
    "    plt.title(\"Average Perception vs. Number of Rounds\")\n",
    "    plt.xlabel(\"Number of Rounds\")\n",
    "    plt.ylabel(\"Average Perception at Conclusion\")\n",
    "    #plt.xticks(rounds)\n",
    "    plt.legend(['Average Perception', 'Average Opinion'])\n",
    "    plt.show()\n",
    "    "
   ]
  },
  {
   "cell_type": "markdown",
   "metadata": {},
   "source": [
    "We can now use the above function to test different combinations of number of rounds, opinions per rounds, and opinion memories. "
   ]
  },
  {
   "cell_type": "code",
   "execution_count": 27,
   "metadata": {},
   "outputs": [
    {
     "name": "stdout",
     "output_type": "stream",
     "text": [
      "Average Perception vs. Number of Exposure Rounds\n",
      "Opinion Exposure Method: Preferential\n",
      "Initial Opinions: Random Uniform\n",
      "Initial Perceptions = Initial Opinions\n"
     ]
    },
    {
     "data": {
      "image/png": "[encoded data removed]",
      "text/plain": [
       "<Figure size 432x288 with 1 Axes>"
      ]
     },
     "metadata": {
      "needs_background": "light"
     },
     "output_type": "display_data"
    }
   ],
   "source": [
    "simulate_over_time(network, 20, 9, 3)"
   ]
  },
  {
   "cell_type": "markdown",
   "metadata": {},
   "source": [
    "## Conclusions\n",
    "As expected, average perception is higher than actual average opinion, though the perception levels out around .64 pretty quickly. <br> \n",
    "\n",
    "This particular notebook demonstrates one of many possible scenarios. Future researchers can modify the network type, probability functions, initial opinion/perception distributions, and other relevant factors to study their impact on network-wide perceptions. Other notebooks in this GitHub repository contain some of these variations, though some are earlier versions, so they may contain bugs or inconsistencies. This notebook is the most organized account of our methodology. <br>\n",
    "\n",
    "Some possible areas to expand on this work are: \n",
    "1. Quantifying the mathematical relationships between perception distributions, probability functions, number of rounds, individual memory, etc.\n",
    "2. Analyzing the relationship in the above graph more quantitatively, rather than visually, to determine numerical significance.\n",
    "3. Testing out different probability distributions for opinions and initial perceptions.\n",
    "4. Testing out network types other than Barabasi-Albert.\n",
    "5. Making this code more efficient and scalable. \n",
    "\n",
    "We hope that others interested in this topic will continue our work. Again, reach out to sammkaiser@wustl.edu if you have any questions.\n",
    "\n",
    "Ciao!"
   ]
  }
 ],
 "metadata": {
  "kernelspec": {
   "display_name": "Python 3",
   "language": "python",
   "name": "python3"
  },
  "language_info": {
   "codemirror_mode": {
    "name": "ipython",
    "version": 3
   },
   "file_extension": ".py",
   "mimetype": "text/x-python",
   "name": "python",
   "nbconvert_exporter": "python",
   "pygments_lexer": "ipython3",
   "version": "3.7.6"
  }
 },
 "nbformat": 4,
 "nbformat_minor": 4
}
