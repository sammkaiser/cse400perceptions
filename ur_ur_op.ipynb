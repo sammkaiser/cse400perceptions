{
 "cells": [
  {
   "cell_type": "code",
   "execution_count": 1,
   "metadata": {},
   "outputs": [],
   "source": [
    "import numpy as np\n",
    "import networkx as nx\n",
    "import matplotlib.pyplot as plt\n",
    "import random\n",
    "from itertools import tee"
   ]
  },
  {
   "cell_type": "code",
   "execution_count": 3,
   "metadata": {},
   "outputs": [],
   "source": [
    "#Creating networks\n",
    "seed = 14\n",
    "n = 500\n",
    "m = 5\n",
    "N_1 = nx.barabasi_albert_graph(n, m, seed)\n",
    "N_2 = nx.barabasi_albert_graph(n, m, seed)\n",
    "N_3 = nx.barabasi_albert_graph(n, m, seed)\n",
    "N_4 = nx.barabasi_albert_graph(n, m, seed)\n",
    "N_5 = nx.barabasi_albert_graph(n, m, seed)\n",
    "N_6 = nx.barabasi_albert_graph(n, m, seed)"
   ]
  },
  {
   "cell_type": "code",
   "execution_count": 4,
   "metadata": {},
   "outputs": [
    {
     "data": {
      "image/png": "[encoded data removed]",
      "text/plain": [
       "<Figure size 432x288 with 1 Axes>"
      ]
     },
     "metadata": {
      "needs_background": "light"
     },
     "output_type": "display_data"
    }
   ],
   "source": [
    "#Initializing set of opinions\n",
    "initial_opinions = np.random.uniform(-1.0, 1.0, n)\n",
    "plt.figure()\n",
    "plt.hist(initial_opinions, bins = 50)\n",
    "plt.show()"
   ]
  },
  {
   "cell_type": "code",
   "execution_count": 5,
   "metadata": {},
   "outputs": [],
   "source": [
    "#Make the opinions a dictionary\n",
    "#Make the perceptions a dictionary\n",
    "#In the beginning, each node's perception is its own opinion\n",
    "opinions = {}\n",
    "perceptions = {}\n",
    "for node in N_1:\n",
    "    opinions[node] = initial_opinions[node]\n",
    "    perceptions[node] = initial_opinions[node]\n",
    "        \n",
    "#Assign opinions and perceptions to nodes\n",
    "nx.set_node_attributes(N_1, opinions, \"opinion\")\n",
    "nx.set_node_attributes(N_1, perceptions, \"perception\")"
   ]
  },
  {
   "cell_type": "code",
   "execution_count": 6,
   "metadata": {},
   "outputs": [],
   "source": [
    "#probability selection functions\n",
    "def pref_attach_opinion(network, sample, k):\n",
    "    #get the opinions \n",
    "    opinions = {}\n",
    "    opinion = 0\n",
    "    people = []\n",
    "    for person in sample:\n",
    "        opinion = network.nodes[person]['opinion']\n",
    "        opinions[person] = opinion\n",
    "        people.append(person)\n",
    "    #Now we need to select\n",
    "    opinions_absolute_values = [abs(op) for op in list(opinions.values())]\n",
    "    opinion_sum = sum(opinions_absolute_values)\n",
    "    opinions_probabilities = []\n",
    "    probability = 0\n",
    "    for person in people:\n",
    "        their_opinion_abs = abs(network.nodes[person]['opinion'])\n",
    "        probability = their_opinion_abs/(opinion_sum)\n",
    "        opinions_probabilities.append(probability)\n",
    "    \n",
    "    opinions_exposed = random.choices(list(opinions.values()), weights=opinions_probabilities, k=k)\n",
    "    \n",
    "    \n",
    "    return opinions_exposed\n",
    "\n",
    "#uniform probability function\n",
    "def uniform_opinion(network, sample, k):\n",
    "    #get the opinions\n",
    "    opinions = {}\n",
    "    opinion = 0\n",
    "    for person in sample:\n",
    "        opinion = network.nodes[person]['opinion']\n",
    "        opinions[person] = opinion\n",
    "       \n",
    "    #give everything equal weight\n",
    "    opinions_exposed = random.choices(list(opinions.values()),  k=k)\n",
    "    return opinions_exposed"
   ]
  },
  {
   "cell_type": "code",
   "execution_count": 3,
   "metadata": {},
   "outputs": [],
   "source": [
    "#big fancy function\n",
    "\n",
    "#exposure method: random uniform\n",
    "#initial opinions: random uniform\n",
    "#initial perceptions: initial opinions\n",
    "def simulate_2(network, num_rounds, opinions_per_round):\n",
    "    initial_opinions = np.random.uniform(-1.0, 1.0, network.number_of_nodes())\n",
    "    opinions = {}\n",
    "    perceptions = {}\n",
    "    for node in network:\n",
    "        opinions[node] = initial_opinions[node]\n",
    "        perceptions[node] = initial_opinions[node]\n",
    "        \n",
    "    #Assign opinions and perceptions to nodes\n",
    "    nx.set_node_attributes(network, opinions, \"opinion\")\n",
    "    nx.set_node_attributes(network, perceptions, \"perception\")\n",
    "    \n",
    "    #visualize initial perceptions\n",
    "    #print(\"Perception Shift\")\n",
    "    #print(\"Opinion Exposure Method: Random Uniform\")\n",
    "    #print(\"Initial Opinions: Random Uniform\")\n",
    "    #print(\"Initial Perceptions = Initial Opinions\")\n",
    "    #plt.figure()\n",
    "    #plt.hist(initial_opinions, bins=100)\n",
    "    #plt.show()\n",
    "    \n",
    "    #rounds of exposure\n",
    "    for node in network:\n",
    "        total_opinions_exposed = []\n",
    "        #rounds of exposure\n",
    "        for i in range(0, num_rounds):\n",
    "            #get the neighbors - have to do this in every round bc it returns an iterator\n",
    "            neighbors = network.neighbors(node)\n",
    "            opinions_exposed = uniform_opinion(network, neighbors, opinions_per_round)\n",
    "            for opinion in opinions_exposed:\n",
    "                total_opinions_exposed.append(opinion)\n",
    "        #Take the average opinion\n",
    "        average_opinion = sum(total_opinions_exposed)/len(total_opinions_exposed)\n",
    "        #Update that nodes perception\n",
    "        perceptions[node] = average_opinion\n",
    "        \n",
    "    #visualize final perceptions\n",
    "    #plt.figure()\n",
    "    #plt.hist(list(perceptions.values()), bins=100)\n",
    "    #plt.show()\n",
    "    \n",
    "    #get the average perception\n",
    "    perception_abs = [abs(per) for per in list(perceptions.values())]\n",
    "    \n",
    "    average_perception = sum(perception_abs)/len(perceptions) \n",
    "    \n",
    "    return num_rounds, average_perception"
   ]
  },
  {
   "cell_type": "code",
   "execution_count": 4,
   "metadata": {},
   "outputs": [],
   "source": [
    "def simulate_2_over_time(network, max_num_rounds, opinions_per_round):\n",
    "    i = 1\n",
    "    perceptions = []\n",
    "    rounds = []\n",
    "    \n",
    "    print(\"Average Perception vs. Number of Exposure Rounds\")\n",
    "    print(\"Opinion Exposure Method: Random Uniform\")\n",
    "    print(\"Initial Opinions: Random Uniform\")\n",
    "    print(\"Initial Perceptions = Initial Opinions\")\n",
    "    \n",
    "    #run the simulation with an increasing number of exposure rounds\n",
    "    while (i <= max_num_rounds):\n",
    "        num_rounds, average_perception = simulate_2(network, i, opinions_per_round)\n",
    "        rounds.append(num_rounds)\n",
    "        perceptions.append(abs(average_perception))\n",
    "        i += 1\n",
    "    \n",
    "    #visualize how the average perception changes with the number of rounds\n",
    "    plt.figure()\n",
    "    plt.plot(rounds, perceptions)\n",
    "    plt.title(\"Average Perception vs. Number of Rounds\")\n",
    "    plt.xlabel(\"Number of Rounds\")\n",
    "    plt.ylabel(\"Average Perception at Conclusion\")\n",
    "    #plt.xticks(rounds)\n",
    "    plt.show()"
   ]
  },
  {
   "cell_type": "code",
   "execution_count": null,
   "metadata": {},
   "outputs": [],
   "source": [
    "simulate_2_over_time(N_1, 100, 1)"
   ]
  }
 ],
 "metadata": {
  "kernelspec": {
   "display_name": "Python 3",
   "language": "python",
   "name": "python3"
  },
  "language_info": {
   "codemirror_mode": {
    "name": "ipython",
    "version": 3
   },
   "file_extension": ".py",
   "mimetype": "text/x-python",
   "name": "python",
   "nbconvert_exporter": "python",
   "pygments_lexer": "ipython3",
   "version": "3.7.6"
  }
 },
 "nbformat": 4,
 "nbformat_minor": 4
}
